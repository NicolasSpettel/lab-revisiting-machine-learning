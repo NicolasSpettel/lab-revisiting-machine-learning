{
 "cells": [
  {
   "cell_type": "markdown",
   "id": "c8b4bc24",
   "metadata": {},
   "source": [
    "# Lab | Revisiting Machine Learning Case Study"
   ]
  },
  {
   "cell_type": "code",
   "execution_count": 1,
   "id": "258cbc98",
   "metadata": {},
   "outputs": [],
   "source": [
    "import pandas as pd"
   ]
  },
  {
   "cell_type": "code",
   "execution_count": 2,
   "id": "2f958349",
   "metadata": {},
   "outputs": [],
   "source": [
    "data = \"learningSet.csv\""
   ]
  },
  {
   "cell_type": "code",
   "execution_count": 3,
   "id": "fefdaa8e",
   "metadata": {},
   "outputs": [
    {
     "name": "stderr",
     "output_type": "stream",
     "text": [
      "C:\\Users\\nicol\\anaconda3\\lib\\site-packages\\IPython\\core\\interactiveshell.py:3444: DtypeWarning: Columns (8) have mixed types.Specify dtype option on import or set low_memory=False.\n",
      "  exec(code_obj, self.user_global_ns, self.user_ns)\n"
     ]
    }
   ],
   "source": [
    "df = pd.read_csv(data)"
   ]
  },
  {
   "cell_type": "code",
   "execution_count": 4,
   "id": "f61e63be",
   "metadata": {},
   "outputs": [
    {
     "name": "stdout",
     "output_type": "stream",
     "text": [
      "<class 'pandas.core.frame.DataFrame'>\n",
      "RangeIndex: 95412 entries, 0 to 95411\n",
      "Columns: 481 entries, ODATEDW to GEOCODE2\n",
      "dtypes: float64(97), int64(310), object(74)\n",
      "memory usage: 350.1+ MB\n"
     ]
    }
   ],
   "source": [
    "df.info()"
   ]
  },
  {
   "cell_type": "markdown",
   "id": "f27f22a8",
   "metadata": {},
   "source": [
    "# Complete the following steps on the categorical columns in the dataset:"
   ]
  },
  {
   "cell_type": "code",
   "execution_count": 5,
   "id": "42419b55",
   "metadata": {},
   "outputs": [],
   "source": [
    "categorical = df.select_dtypes(include = \"object\")"
   ]
  },
  {
   "cell_type": "code",
   "execution_count": 6,
   "id": "cb0a143c",
   "metadata": {},
   "outputs": [
    {
     "data": {
      "text/html": [
       "<div>\n",
       "<style scoped>\n",
       "    .dataframe tbody tr th:only-of-type {\n",
       "        vertical-align: middle;\n",
       "    }\n",
       "\n",
       "    .dataframe tbody tr th {\n",
       "        vertical-align: top;\n",
       "    }\n",
       "\n",
       "    .dataframe thead th {\n",
       "        text-align: right;\n",
       "    }\n",
       "</style>\n",
       "<table border=\"1\" class=\"dataframe\">\n",
       "  <thead>\n",
       "    <tr style=\"text-align: right;\">\n",
       "      <th></th>\n",
       "      <th>OSOURCE</th>\n",
       "      <th>STATE</th>\n",
       "      <th>ZIP</th>\n",
       "      <th>MAILCODE</th>\n",
       "      <th>PVASTATE</th>\n",
       "      <th>NOEXCH</th>\n",
       "      <th>RECINHSE</th>\n",
       "      <th>RECP3</th>\n",
       "      <th>RECPGVG</th>\n",
       "      <th>RECSWEEP</th>\n",
       "      <th>...</th>\n",
       "      <th>RFA_21</th>\n",
       "      <th>RFA_22</th>\n",
       "      <th>RFA_23</th>\n",
       "      <th>RFA_24</th>\n",
       "      <th>RFA_2R</th>\n",
       "      <th>RFA_2A</th>\n",
       "      <th>MDMAUD_R</th>\n",
       "      <th>MDMAUD_F</th>\n",
       "      <th>MDMAUD_A</th>\n",
       "      <th>GEOCODE2</th>\n",
       "    </tr>\n",
       "  </thead>\n",
       "  <tbody>\n",
       "    <tr>\n",
       "      <th>0</th>\n",
       "      <td>GRI</td>\n",
       "      <td>IL</td>\n",
       "      <td>61081</td>\n",
       "      <td></td>\n",
       "      <td></td>\n",
       "      <td>0</td>\n",
       "      <td></td>\n",
       "      <td></td>\n",
       "      <td></td>\n",
       "      <td></td>\n",
       "      <td>...</td>\n",
       "      <td>S4E</td>\n",
       "      <td>S4E</td>\n",
       "      <td>S4E</td>\n",
       "      <td>S4E</td>\n",
       "      <td>L</td>\n",
       "      <td>E</td>\n",
       "      <td>X</td>\n",
       "      <td>X</td>\n",
       "      <td>X</td>\n",
       "      <td>C</td>\n",
       "    </tr>\n",
       "    <tr>\n",
       "      <th>1</th>\n",
       "      <td>BOA</td>\n",
       "      <td>CA</td>\n",
       "      <td>91326</td>\n",
       "      <td></td>\n",
       "      <td></td>\n",
       "      <td>0</td>\n",
       "      <td></td>\n",
       "      <td></td>\n",
       "      <td></td>\n",
       "      <td></td>\n",
       "      <td>...</td>\n",
       "      <td>N1E</td>\n",
       "      <td>N1E</td>\n",
       "      <td></td>\n",
       "      <td>F1E</td>\n",
       "      <td>L</td>\n",
       "      <td>G</td>\n",
       "      <td>X</td>\n",
       "      <td>X</td>\n",
       "      <td>X</td>\n",
       "      <td>A</td>\n",
       "    </tr>\n",
       "    <tr>\n",
       "      <th>2</th>\n",
       "      <td>AMH</td>\n",
       "      <td>NC</td>\n",
       "      <td>27017</td>\n",
       "      <td></td>\n",
       "      <td></td>\n",
       "      <td>0</td>\n",
       "      <td></td>\n",
       "      <td></td>\n",
       "      <td></td>\n",
       "      <td></td>\n",
       "      <td>...</td>\n",
       "      <td></td>\n",
       "      <td>S4D</td>\n",
       "      <td>S4D</td>\n",
       "      <td>S3D</td>\n",
       "      <td>L</td>\n",
       "      <td>E</td>\n",
       "      <td>X</td>\n",
       "      <td>X</td>\n",
       "      <td>X</td>\n",
       "      <td>C</td>\n",
       "    </tr>\n",
       "    <tr>\n",
       "      <th>3</th>\n",
       "      <td>BRY</td>\n",
       "      <td>CA</td>\n",
       "      <td>95953</td>\n",
       "      <td></td>\n",
       "      <td></td>\n",
       "      <td>0</td>\n",
       "      <td></td>\n",
       "      <td></td>\n",
       "      <td></td>\n",
       "      <td></td>\n",
       "      <td>...</td>\n",
       "      <td>A1D</td>\n",
       "      <td>A1D</td>\n",
       "      <td></td>\n",
       "      <td></td>\n",
       "      <td>L</td>\n",
       "      <td>E</td>\n",
       "      <td>X</td>\n",
       "      <td>X</td>\n",
       "      <td>X</td>\n",
       "      <td>C</td>\n",
       "    </tr>\n",
       "    <tr>\n",
       "      <th>4</th>\n",
       "      <td></td>\n",
       "      <td>FL</td>\n",
       "      <td>33176</td>\n",
       "      <td></td>\n",
       "      <td></td>\n",
       "      <td>0</td>\n",
       "      <td>X</td>\n",
       "      <td>X</td>\n",
       "      <td></td>\n",
       "      <td></td>\n",
       "      <td>...</td>\n",
       "      <td>A3D</td>\n",
       "      <td>I4E</td>\n",
       "      <td>A3D</td>\n",
       "      <td>A3D</td>\n",
       "      <td>L</td>\n",
       "      <td>F</td>\n",
       "      <td>X</td>\n",
       "      <td>X</td>\n",
       "      <td>X</td>\n",
       "      <td>A</td>\n",
       "    </tr>\n",
       "    <tr>\n",
       "      <th>...</th>\n",
       "      <td>...</td>\n",
       "      <td>...</td>\n",
       "      <td>...</td>\n",
       "      <td>...</td>\n",
       "      <td>...</td>\n",
       "      <td>...</td>\n",
       "      <td>...</td>\n",
       "      <td>...</td>\n",
       "      <td>...</td>\n",
       "      <td>...</td>\n",
       "      <td>...</td>\n",
       "      <td>...</td>\n",
       "      <td>...</td>\n",
       "      <td>...</td>\n",
       "      <td>...</td>\n",
       "      <td>...</td>\n",
       "      <td>...</td>\n",
       "      <td>...</td>\n",
       "      <td>...</td>\n",
       "      <td>...</td>\n",
       "      <td>...</td>\n",
       "    </tr>\n",
       "    <tr>\n",
       "      <th>95407</th>\n",
       "      <td>ASE</td>\n",
       "      <td>AK</td>\n",
       "      <td>99504</td>\n",
       "      <td></td>\n",
       "      <td></td>\n",
       "      <td>0</td>\n",
       "      <td></td>\n",
       "      <td></td>\n",
       "      <td></td>\n",
       "      <td></td>\n",
       "      <td>...</td>\n",
       "      <td></td>\n",
       "      <td></td>\n",
       "      <td></td>\n",
       "      <td></td>\n",
       "      <td>L</td>\n",
       "      <td>G</td>\n",
       "      <td>X</td>\n",
       "      <td>X</td>\n",
       "      <td>X</td>\n",
       "      <td>C</td>\n",
       "    </tr>\n",
       "    <tr>\n",
       "      <th>95408</th>\n",
       "      <td>DCD</td>\n",
       "      <td>TX</td>\n",
       "      <td>77379</td>\n",
       "      <td></td>\n",
       "      <td></td>\n",
       "      <td>0</td>\n",
       "      <td></td>\n",
       "      <td></td>\n",
       "      <td></td>\n",
       "      <td></td>\n",
       "      <td>...</td>\n",
       "      <td></td>\n",
       "      <td></td>\n",
       "      <td></td>\n",
       "      <td></td>\n",
       "      <td>L</td>\n",
       "      <td>F</td>\n",
       "      <td>X</td>\n",
       "      <td>X</td>\n",
       "      <td>X</td>\n",
       "      <td>A</td>\n",
       "    </tr>\n",
       "    <tr>\n",
       "      <th>95409</th>\n",
       "      <td>MBC</td>\n",
       "      <td>MI</td>\n",
       "      <td>48910</td>\n",
       "      <td></td>\n",
       "      <td></td>\n",
       "      <td>0</td>\n",
       "      <td></td>\n",
       "      <td>X</td>\n",
       "      <td></td>\n",
       "      <td></td>\n",
       "      <td>...</td>\n",
       "      <td>P1D</td>\n",
       "      <td>P1D</td>\n",
       "      <td></td>\n",
       "      <td></td>\n",
       "      <td>L</td>\n",
       "      <td>E</td>\n",
       "      <td>X</td>\n",
       "      <td>X</td>\n",
       "      <td>X</td>\n",
       "      <td>B</td>\n",
       "    </tr>\n",
       "    <tr>\n",
       "      <th>95410</th>\n",
       "      <td>PRV</td>\n",
       "      <td>CA</td>\n",
       "      <td>91320</td>\n",
       "      <td></td>\n",
       "      <td></td>\n",
       "      <td>0</td>\n",
       "      <td>X</td>\n",
       "      <td></td>\n",
       "      <td></td>\n",
       "      <td></td>\n",
       "      <td>...</td>\n",
       "      <td>A1F</td>\n",
       "      <td>A1F</td>\n",
       "      <td>S2F</td>\n",
       "      <td>S3F</td>\n",
       "      <td>L</td>\n",
       "      <td>F</td>\n",
       "      <td>X</td>\n",
       "      <td>X</td>\n",
       "      <td>X</td>\n",
       "      <td>A</td>\n",
       "    </tr>\n",
       "    <tr>\n",
       "      <th>95411</th>\n",
       "      <td>MCC</td>\n",
       "      <td>NC</td>\n",
       "      <td>28409</td>\n",
       "      <td></td>\n",
       "      <td></td>\n",
       "      <td>0</td>\n",
       "      <td>X</td>\n",
       "      <td></td>\n",
       "      <td>X</td>\n",
       "      <td></td>\n",
       "      <td>...</td>\n",
       "      <td>S3G</td>\n",
       "      <td>S3G</td>\n",
       "      <td>S3G</td>\n",
       "      <td>S3G</td>\n",
       "      <td>L</td>\n",
       "      <td>G</td>\n",
       "      <td>C</td>\n",
       "      <td>1</td>\n",
       "      <td>C</td>\n",
       "      <td>C</td>\n",
       "    </tr>\n",
       "  </tbody>\n",
       "</table>\n",
       "<p>95412 rows × 74 columns</p>\n",
       "</div>"
      ],
      "text/plain": [
       "      OSOURCE STATE    ZIP MAILCODE PVASTATE NOEXCH RECINHSE RECP3 RECPGVG  \\\n",
       "0         GRI    IL  61081                        0                          \n",
       "1         BOA    CA  91326                        0                          \n",
       "2         AMH    NC  27017                        0                          \n",
       "3         BRY    CA  95953                        0                          \n",
       "4                FL  33176                        0        X     X           \n",
       "...       ...   ...    ...      ...      ...    ...      ...   ...     ...   \n",
       "95407     ASE    AK  99504                        0                          \n",
       "95408     DCD    TX  77379                        0                          \n",
       "95409     MBC    MI  48910                        0              X           \n",
       "95410     PRV    CA  91320                        0        X                 \n",
       "95411     MCC    NC  28409                        0        X             X   \n",
       "\n",
       "      RECSWEEP  ... RFA_21 RFA_22 RFA_23 RFA_24 RFA_2R RFA_2A MDMAUD_R  \\\n",
       "0               ...    S4E    S4E    S4E    S4E      L      E        X   \n",
       "1               ...    N1E    N1E           F1E      L      G        X   \n",
       "2               ...           S4D    S4D    S3D      L      E        X   \n",
       "3               ...    A1D    A1D                    L      E        X   \n",
       "4               ...    A3D    I4E    A3D    A3D      L      F        X   \n",
       "...        ...  ...    ...    ...    ...    ...    ...    ...      ...   \n",
       "95407           ...                                  L      G        X   \n",
       "95408           ...                                  L      F        X   \n",
       "95409           ...    P1D    P1D                    L      E        X   \n",
       "95410           ...    A1F    A1F    S2F    S3F      L      F        X   \n",
       "95411           ...    S3G    S3G    S3G    S3G      L      G        C   \n",
       "\n",
       "      MDMAUD_F MDMAUD_A GEOCODE2  \n",
       "0            X        X        C  \n",
       "1            X        X        A  \n",
       "2            X        X        C  \n",
       "3            X        X        C  \n",
       "4            X        X        A  \n",
       "...        ...      ...      ...  \n",
       "95407        X        X        C  \n",
       "95408        X        X        A  \n",
       "95409        X        X        B  \n",
       "95410        X        X        A  \n",
       "95411        1        C        C  \n",
       "\n",
       "[95412 rows x 74 columns]"
      ]
     },
     "execution_count": 6,
     "metadata": {},
     "output_type": "execute_result"
    }
   ],
   "source": [
    "categorical"
   ]
  },
  {
   "cell_type": "markdown",
   "id": "30954dd5",
   "metadata": {},
   "source": [
    "## Check for null values in all the columns"
   ]
  },
  {
   "cell_type": "code",
   "execution_count": 7,
   "id": "6638cfad",
   "metadata": {},
   "outputs": [
    {
     "data": {
      "text/plain": [
       "['GEOCODE2']"
      ]
     },
     "execution_count": 7,
     "metadata": {},
     "output_type": "execute_result"
    }
   ],
   "source": [
    "nan_cols = categorical.columns[categorical.isna().any()].tolist()\n",
    "nan_cols"
   ]
  },
  {
   "cell_type": "markdown",
   "id": "670cbb82",
   "metadata": {},
   "source": [
    "## Exclude the following variables by looking at the definitions. Create a new empty list called drop_list. We will append this list and then drop all the columns in this list later:"
   ]
  },
  {
   "cell_type": "code",
   "execution_count": 8,
   "id": "6228f7bc",
   "metadata": {},
   "outputs": [],
   "source": [
    "drop_list = []"
   ]
  },
  {
   "cell_type": "code",
   "execution_count": 9,
   "id": "537a2465",
   "metadata": {},
   "outputs": [],
   "source": [
    "drop_list += nan_cols"
   ]
  },
  {
   "cell_type": "code",
   "execution_count": 10,
   "id": "6e1f0636",
   "metadata": {},
   "outputs": [
    {
     "data": {
      "text/plain": [
       "['GEOCODE2']"
      ]
     },
     "execution_count": 10,
     "metadata": {},
     "output_type": "execute_result"
    }
   ],
   "source": [
    "drop_list"
   ]
  },
  {
   "cell_type": "code",
   "execution_count": 11,
   "id": "e0e4103c",
   "metadata": {},
   "outputs": [
    {
     "data": {
      "text/plain": [
       "0        GRI\n",
       "1        BOA\n",
       "2        AMH\n",
       "3        BRY\n",
       "4           \n",
       "        ... \n",
       "95407    ASE\n",
       "95408    DCD\n",
       "95409    MBC\n",
       "95410    PRV\n",
       "95411    MCC\n",
       "Name: OSOURCE, Length: 95412, dtype: object"
      ]
     },
     "execution_count": 11,
     "metadata": {},
     "output_type": "execute_result"
    }
   ],
   "source": [
    "df[\"OSOURCE\"]"
   ]
  },
  {
   "cell_type": "code",
   "execution_count": 12,
   "id": "66ff2ef7",
   "metadata": {},
   "outputs": [],
   "source": [
    "drop_list.append(\"OSOURCE\")"
   ]
  },
  {
   "cell_type": "code",
   "execution_count": 13,
   "id": "57646e1e",
   "metadata": {},
   "outputs": [],
   "source": [
    "# df[\"ZIP CODE\"]"
   ]
  },
  {
   "cell_type": "code",
   "execution_count": 14,
   "id": "868c16d9",
   "metadata": {},
   "outputs": [],
   "source": [
    "df_zip_code = df.filter(regex=(\"ZIP.*?\"))"
   ]
  },
  {
   "cell_type": "code",
   "execution_count": 15,
   "id": "4c701f0f",
   "metadata": {},
   "outputs": [],
   "source": [
    "df_zip_code = df_zip_code.columns.to_list()"
   ]
  },
  {
   "cell_type": "code",
   "execution_count": 16,
   "id": "fd408a4c",
   "metadata": {},
   "outputs": [],
   "source": [
    "drop_list += df_zip_code"
   ]
  },
  {
   "cell_type": "code",
   "execution_count": 17,
   "id": "87754699",
   "metadata": {},
   "outputs": [
    {
     "data": {
      "text/plain": [
       "['GEOCODE2', 'OSOURCE', 'ZIP']"
      ]
     },
     "execution_count": 17,
     "metadata": {},
     "output_type": "execute_result"
    }
   ],
   "source": [
    "drop_list"
   ]
  },
  {
   "cell_type": "markdown",
   "id": "b01b331a",
   "metadata": {},
   "source": [
    "# Identify columns that over 85% missing values"
   ]
  },
  {
   "cell_type": "code",
   "execution_count": 18,
   "id": "29cd57a7",
   "metadata": {},
   "outputs": [
    {
     "name": "stdout",
     "output_type": "stream",
     "text": [
      "Column: GEOCODE2 has 99.86% of data filled \n"
     ]
    }
   ],
   "source": [
    "for column in categorical.columns:\n",
    "    if categorical[column].value_counts().sum()/len(categorical) < 1:\n",
    "        print(\"Column: {} has {}% of data filled \".format(column, round((categorical[column].value_counts().sum()/len(categorical))*100,2)))"
   ]
  },
  {
   "cell_type": "markdown",
   "id": "3c2cd20a",
   "metadata": {},
   "source": [
    "The only categorical column with NaNs has less than 1% of missing values."
   ]
  },
  {
   "cell_type": "markdown",
   "id": "51731a76",
   "metadata": {},
   "source": [
    "### How about the full dataset?"
   ]
  },
  {
   "cell_type": "code",
   "execution_count": 19,
   "id": "8619067e",
   "metadata": {},
   "outputs": [
    {
     "name": "stdout",
     "output_type": "stream",
     "text": [
      "Column: NUMCHLD has 12.98% of data filled \n",
      "Column: RDATE_3 has 0.25% of data filled \n",
      "Column: RDATE_4 has 0.29% of data filled \n",
      "Column: RDATE_5 has 0.01% of data filled \n",
      "Column: RDATE_6 has 0.81% of data filled \n",
      "Column: RDATE_7 has 9.32% of data filled \n",
      "Column: RDATE_10 has 10.96% of data filled \n",
      "Column: RDATE_13 has 12.84% of data filled \n",
      "Column: RDATE_15 has 7.61% of data filled \n",
      "Column: RDATE_17 has 9.85% of data filled \n",
      "Column: RDATE_20 has 8.27% of data filled \n",
      "Column: RDATE_21 has 9.97% of data filled \n",
      "Column: RDATE_23 has 8.24% of data filled \n",
      "Column: RAMNT_3 has 0.25% of data filled \n",
      "Column: RAMNT_4 has 0.29% of data filled \n",
      "Column: RAMNT_5 has 0.01% of data filled \n",
      "Column: RAMNT_6 has 0.81% of data filled \n",
      "Column: RAMNT_7 has 9.32% of data filled \n",
      "Column: RAMNT_10 has 10.96% of data filled \n",
      "Column: RAMNT_13 has 12.84% of data filled \n",
      "Column: RAMNT_15 has 7.61% of data filled \n",
      "Column: RAMNT_17 has 9.85% of data filled \n",
      "Column: RAMNT_20 has 8.27% of data filled \n",
      "Column: RAMNT_21 has 9.97% of data filled \n",
      "Column: RAMNT_23 has 8.24% of data filled \n"
     ]
    }
   ],
   "source": [
    "df_low_data = []\n",
    "for column in df.columns:\n",
    "    if df[column].value_counts().sum()/len(df) < 0.15:\n",
    "        print(\"Column: {} has {}% of data filled \".format(column, round((df[column].value_counts().sum()/len(df))*100,2)))\n",
    "        df_low_data.append(column)"
   ]
  },
  {
   "cell_type": "markdown",
   "id": "e168f55a",
   "metadata": {},
   "source": [
    "# Remove those columns from the dataframe"
   ]
  },
  {
   "cell_type": "code",
   "execution_count": 20,
   "id": "44051abc",
   "metadata": {},
   "outputs": [],
   "source": [
    "df = df.drop(columns=drop_list)"
   ]
  },
  {
   "cell_type": "markdown",
   "id": "8258ffde",
   "metadata": {},
   "source": [
    "# Reduce the number of categories in the column GENDER. The column should only have either \"M\" for males, \"F\" for females, and \"other\" for all the rest"
   ]
  },
  {
   "cell_type": "code",
   "execution_count": 22,
   "id": "465d3329",
   "metadata": {},
   "outputs": [
    {
     "name": "stdout",
     "output_type": "stream",
     "text": [
      "F    51277\n",
      "M    39094\n",
      "      2957\n",
      "U     1715\n",
      "J      365\n",
      "C        2\n",
      "A        2\n",
      "Name: GENDER, dtype: int64\n"
     ]
    }
   ],
   "source": [
    "print(categorical['GENDER'].value_counts())\n",
    "categorical['GENDER'] = categorical['GENDER'].fillna('F')"
   ]
  },
  {
   "cell_type": "markdown",
   "id": "f3f33168",
   "metadata": {},
   "source": [
    "#### Since these are not actually NaNs"
   ]
  },
  {
   "cell_type": "code",
   "execution_count": 23,
   "id": "715497ca",
   "metadata": {},
   "outputs": [
    {
     "data": {
      "text/plain": [
       "F    54234\n",
       "M    39094\n",
       "U     1715\n",
       "J      365\n",
       "C        2\n",
       "A        2\n",
       "Name: GENDER, dtype: int64"
      ]
     },
     "execution_count": 23,
     "metadata": {},
     "output_type": "execute_result"
    }
   ],
   "source": [
    "categorical[\"GENDER\"][categorical['GENDER'] == \" \"] = \"F\"\n",
    "categorical[\"GENDER\"].value_counts()"
   ]
  },
  {
   "cell_type": "code",
   "execution_count": 28,
   "id": "8ef10741",
   "metadata": {},
   "outputs": [],
   "source": [
    "categorical[\"GENDER\"] = categorical[\"GENDER\"].apply(lambda x : x if (x in [\"F\", \"M\"]) else \"other\")"
   ]
  },
  {
   "cell_type": "code",
   "execution_count": 29,
   "id": "2e5e3221",
   "metadata": {},
   "outputs": [
    {
     "data": {
      "text/plain": [
       "F        54234\n",
       "M        39094\n",
       "other     2084\n",
       "Name: GENDER, dtype: int64"
      ]
     },
     "execution_count": 29,
     "metadata": {},
     "output_type": "execute_result"
    }
   ],
   "source": [
    "categorical[\"GENDER\"].value_counts()"
   ]
  },
  {
   "cell_type": "code",
   "execution_count": 31,
   "id": "284803a0",
   "metadata": {},
   "outputs": [],
   "source": [
    "df.to_csv(\"learningSet_1.csv\", index=False)"
   ]
  },
  {
   "cell_type": "code",
   "execution_count": null,
   "id": "f2f8d881",
   "metadata": {},
   "outputs": [],
   "source": []
  }
 ],
 "metadata": {
  "kernelspec": {
   "display_name": "Python 3 (ipykernel)",
   "language": "python",
   "name": "python3"
  },
  "language_info": {
   "codemirror_mode": {
    "name": "ipython",
    "version": 3
   },
   "file_extension": ".py",
   "mimetype": "text/x-python",
   "name": "python",
   "nbconvert_exporter": "python",
   "pygments_lexer": "ipython3",
   "version": "3.9.7"
  }
 },
 "nbformat": 4,
 "nbformat_minor": 5
}
